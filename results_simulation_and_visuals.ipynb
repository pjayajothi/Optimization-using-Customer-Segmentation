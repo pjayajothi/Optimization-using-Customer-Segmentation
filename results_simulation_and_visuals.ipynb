# Cell 1: Imports
import pandas as pd
import numpy as np
import matplotlib.pyplot as plt
import seaborn as sns

sns.set(style="whitegrid")

# Cell 2: Load segmented data
df = pd.read_csv("cleaned_CC_GENERAL.csv")
# Assuming clustering has been done and a 'Cluster' column exists

# Cell 3: Simulate average revenue per customer by cluster
np.random.seed(42)
df['Simulated_Revenue'] = df['Cluster'].map({
    0: np.random.normal(500, 100, len(df[df['Cluster'] == 0])),
    1: np.random.normal(300, 80, len(df[df['Cluster'] == 1])),
    2: np.random.normal(200, 70, len(df[df['Cluster'] == 2])),
    3: np.random.normal(100, 50, len(df[df['Cluster'] == 3])),
}).explode().astype(float)

# Cell 4: Plot revenue distribution by cluster
plt.figure(figsize=(8, 6))
sns.boxplot(x='Cluster', y='Simulated_Revenue', data=df)
plt.title("Simulated Revenue by Customer Segment")
plt.tight_layout()
plt.show()

# Cell 5: Compare random targeting vs segment-based targeting
random_customers = df.sample(frac=0.25, random_state=1)
segment_customers = df[df['Cluster'] == 0].sample(frac=0.25, random_state=1)

random_revenue = random_customers['Simulated_Revenue'].sum()
segment_revenue = segment_customers['Simulated_Revenue'].sum()

plt.figure(figsize=(6, 4))
sns.barplot(x=['Random Targeting', 'Segment-Based Targeting'],
            y=[random_revenue, segment_revenue])
plt.title("Estimated Revenue Comparison")
plt.ylabel("Simulated Revenue")
plt.tight_layout()
plt.show()
