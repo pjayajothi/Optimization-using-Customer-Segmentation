# Cell 1: Imports and setup
import pandas as pd
import numpy as np
import matplotlib.pyplot as plt
import seaborn as sns

sns.set(style="whitegrid")

# Cell 2: Load the cleaned dataset
df = pd.read_csv("cleaned_data.csv")
df.head()

# Cell 3: Basic info and summary
df.info()

# Cell 3: Basic info and summary
df.info()

# Cell 4: Descriptive statistics
df.describe()

# Cell 5: Check for missing values
df.isnull().sum()

# Cell 6: Correlation matrix heatmap
plt.figure(figsize=(14, 10))
sns.heatmap(df.corr(), annot=True, fmt=".2f", cmap="coolwarm", square=True)
plt.title("Correlation Matrix Heatmap")
plt.tight_layout()
plt.show()

# Cell 7: Distribution plots of key numeric features
features = ['BALANCE', 'PURCHASES', 'PAYMENTS', 'CREDIT_LIMIT']
df[features].hist(bins=30, figsize=(12, 8), layout=(2, 2), edgecolor='black')
plt.tight_layout()
plt.show()

# Cell 8: Boxplots to identify outliers
plt.figure(figsize=(12, 6))
sns.boxplot(data=df[['BALANCE', 'PURCHASES', 'PAYMENTS']])
plt.title("Boxplot of Financial Features")
plt.tight_layout()
plt.show()

